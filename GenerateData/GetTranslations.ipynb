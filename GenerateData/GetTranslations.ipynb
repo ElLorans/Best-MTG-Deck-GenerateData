{
 "cells": [
  {
   "cell_type": "markdown",
   "metadata": {
    "pycharm": {
     "name": "#%% md\n"
    }
   },
   "source": [
    "https://scryfall.com/docs/api/bulk-data\n",
    "\n",
    "All Cards"
   ]
  },
  {
   "cell_type": "code",
   "execution_count": 1,
   "metadata": {
    "pycharm": {
     "name": "#%%\n"
    }
   },
   "outputs": [
    {
     "name": "stdout",
     "output_type": "stream",
     "text": [
      "Copied files\n"
     ]
    }
   ],
   "source": [
    "import os\n",
    "import winsound  # make sound when long cells have been executed\n",
    "\n",
    "import orjson as json\n",
    "from tqdm.auto import tqdm\n",
    "from utils import NEW_DATA_FOLDER, SCRYFALL_FOLDER, create_directories, copy_old_data\n",
    "\n",
    "create_directories()\n",
    "copy_old_data()"
   ]
  },
  {
   "cell_type": "code",
   "execution_count": null,
   "metadata": {
    "pycharm": {
     "name": "#%%\n",
     "is_executing": true
    }
   },
   "outputs": [],
   "source": [
    "# this will take time\n",
    "with open(os.path.join(SCRYFALL_FOLDER, \"all-cards.json\"), encoding=\"utf-8\") as j:\n",
    "    data = json.loads(j.read())\n",
    "\n",
    "# make a sound to let me know it finished\n",
    "winsound.Beep(500, 400)"
   ]
  },
  {
   "cell_type": "code",
   "execution_count": 3,
   "metadata": {
    "pycharm": {
     "name": "#%%\n"
    }
   },
   "outputs": [],
   "source": [
    "def clean_str(stringa: str) -> str:\n",
    "    for elem in (\" -\", \" /\"):\n",
    "        stringa = stringa.split(elem)[0]\n",
    "    return stringa"
   ]
  },
  {
   "cell_type": "code",
   "execution_count": 4,
   "metadata": {
    "pycharm": {
     "name": "#%%\n"
    }
   },
   "outputs": [
    {
     "data": {
      "application/json": {
       "ascii": false,
       "bar_format": null,
       "colour": null,
       "elapsed": 0.6278562545776367,
       "initial": 0,
       "n": 0,
       "ncols": null,
       "nrows": 29,
       "postfix": null,
       "prefix": "",
       "rate": null,
       "total": 383447,
       "unit": "it",
       "unit_divisor": 1000,
       "unit_scale": false
      },
      "application/vnd.jupyter.widget-view+json": {
       "model_id": "c3ac4d75ae84450592ae374fb0de62e5",
       "version_major": 2,
       "version_minor": 0
      },
      "text/plain": [
       "  0%|          | 0/383447 [00:00<?, ?it/s]"
      ]
     },
     "metadata": {},
     "output_type": "display_data"
    }
   ],
   "source": [
    "card_types = dict()\n",
    "\n",
    "errors = list()  # no italian name provided\n",
    "translations = dict()\n",
    "\n",
    "for dictionary in tqdm(data):\n",
    "    if dictionary[\"lang\"] == \"en\":\n",
    "        lower_name = dictionary[\"name\"].lower()\n",
    "        # if card has 2 sides\n",
    "        if \"card_faces\" in dictionary:\n",
    "            # card type is first type\n",
    "            card_types[lower_name] = clean_str(dictionary[\"card_faces\"][0][\"type_line\"])\n",
    "            for subdict in dictionary[\"card_faces\"]:\n",
    "                side_name = subdict[\"name\"].lower()\n",
    "                # some double faced tokens don't have type line for second face\n",
    "                if \"type_line\" in subdict:\n",
    "                    card_types[side_name] = clean_str(subdict[\"type_line\"])\n",
    "        elif dictionary[\"type_line\"] != \"Card\":\n",
    "            card_types[lower_name] = dictionary[\"type_line\"]\n",
    "    elif dictionary[\"lang\"] == \"it\":\n",
    "        try:\n",
    "            translations[dictionary[\"printed_name\"].lower()] = dictionary[\n",
    "                \"name\"\n",
    "            ].lower()\n",
    "        except KeyError:\n",
    "            ita_name = list()\n",
    "            # split cards don't have \"printed_name\" but have \"card_faces\"\n",
    "            if \"card_faces\" in dictionary:\n",
    "                for subdict in dictionary[\"card_faces\"]:\n",
    "                    try:\n",
    "                        ita_name.append(subdict[\"printed_name\"].lower())\n",
    "                        # old double cards have printed_name only for first half\n",
    "                        # (e.g.: Domanda/Offerta)\n",
    "                        if \"/\" in subdict[\"printed_name\"]:\n",
    "                            break\n",
    "                    # Kamigawa split cards don't have printed_name for second face\n",
    "                    except KeyError:\n",
    "                        break\n",
    "                ita_name = \" // \".join(ita_name)\n",
    "                translations[ita_name] = dictionary[\"name\"].lower()\n",
    "            else:\n",
    "                errors.append(dictionary[\"name\"])\n",
    "\n",
    "errors = set(errors)\n",
    "# del data  # save RAM by deleting reference"
   ]
  },
  {
   "cell_type": "code",
   "execution_count": 5,
   "metadata": {
    "pycharm": {
     "name": "#%%\n"
    }
   },
   "outputs": [
    {
     "data": {
      "text/plain": [
       "{'object': 'card',\n",
       " 'id': '00030770-5e99-4943-819d-8d807c24cc14',\n",
       " 'oracle_id': '56719f6a-1a6c-4c0a-8d21-18f7d7350b68',\n",
       " 'multiverse_ids': [489643],\n",
       " 'arena_id': 72579,\n",
       " 'tcgplayer_id': 215984,\n",
       " 'cardmarket_id': 472559,\n",
       " 'name': 'Swamp',\n",
       " 'lang': 'en',\n",
       " 'released_at': '2020-07-17',\n",
       " 'uri': 'https://api.scryfall.com/cards/00030770-5e99-4943-819d-8d807c24cc14',\n",
       " 'scryfall_uri': 'https://scryfall.com/card/jmp/59/swamp?utm_source=api',\n",
       " 'layout': 'normal',\n",
       " 'highres_image': True,\n",
       " 'image_status': 'highres_scan',\n",
       " 'image_uris': {'small': 'https://c1.scryfall.com/file/scryfall-cards/small/front/0/0/00030770-5e99-4943-819d-8d807c24cc14.jpg?1600716281',\n",
       "  'normal': 'https://c1.scryfall.com/file/scryfall-cards/normal/front/0/0/00030770-5e99-4943-819d-8d807c24cc14.jpg?1600716281',\n",
       "  'large': 'https://c1.scryfall.com/file/scryfall-cards/large/front/0/0/00030770-5e99-4943-819d-8d807c24cc14.jpg?1600716281',\n",
       "  'png': 'https://c1.scryfall.com/file/scryfall-cards/png/front/0/0/00030770-5e99-4943-819d-8d807c24cc14.png?1600716281',\n",
       "  'art_crop': 'https://c1.scryfall.com/file/scryfall-cards/art_crop/front/0/0/00030770-5e99-4943-819d-8d807c24cc14.jpg?1600716281',\n",
       "  'border_crop': 'https://c1.scryfall.com/file/scryfall-cards/border_crop/front/0/0/00030770-5e99-4943-819d-8d807c24cc14.jpg?1600716281'},\n",
       " 'mana_cost': '',\n",
       " 'cmc': 0.0,\n",
       " 'type_line': 'Basic Land — Swamp',\n",
       " 'oracle_text': '({T}: Add {B}.)',\n",
       " 'colors': [],\n",
       " 'color_identity': ['B'],\n",
       " 'keywords': [],\n",
       " 'produced_mana': ['B'],\n",
       " 'legalities': {'standard': 'legal',\n",
       "  'future': 'legal',\n",
       "  'historic': 'legal',\n",
       "  'gladiator': 'legal',\n",
       "  'pioneer': 'legal',\n",
       "  'explorer': 'legal',\n",
       "  'modern': 'legal',\n",
       "  'legacy': 'legal',\n",
       "  'pauper': 'legal',\n",
       "  'vintage': 'legal',\n",
       "  'penny': 'legal',\n",
       "  'commander': 'legal',\n",
       "  'brawl': 'legal',\n",
       "  'historicbrawl': 'legal',\n",
       "  'alchemy': 'legal',\n",
       "  'paupercommander': 'legal',\n",
       "  'duel': 'legal',\n",
       "  'oldschool': 'not_legal',\n",
       "  'premodern': 'legal'},\n",
       " 'games': ['arena', 'paper'],\n",
       " 'reserved': False,\n",
       " 'foil': False,\n",
       " 'nonfoil': True,\n",
       " 'finishes': ['nonfoil'],\n",
       " 'oversized': False,\n",
       " 'promo': False,\n",
       " 'reprint': True,\n",
       " 'variation': False,\n",
       " 'set_id': '0f6ccf25-a627-4263-86df-5757137f1696',\n",
       " 'set': 'jmp',\n",
       " 'set_name': 'Jumpstart',\n",
       " 'set_type': 'draft_innovation',\n",
       " 'set_uri': 'https://api.scryfall.com/sets/0f6ccf25-a627-4263-86df-5757137f1696',\n",
       " 'set_search_uri': 'https://api.scryfall.com/cards/search?order=set&q=e%3Ajmp&unique=prints',\n",
       " 'scryfall_set_uri': 'https://scryfall.com/sets/jmp?utm_source=api',\n",
       " 'rulings_uri': 'https://api.scryfall.com/cards/00030770-5e99-4943-819d-8d807c24cc14/rulings',\n",
       " 'prints_search_uri': 'https://api.scryfall.com/cards/search?order=released&q=oracleid%3A56719f6a-1a6c-4c0a-8d21-18f7d7350b68&unique=prints',\n",
       " 'collector_number': '59',\n",
       " 'digital': False,\n",
       " 'rarity': 'common',\n",
       " 'card_back_id': '0aeebaf5-8c7d-4636-9e82-8c27447861f7',\n",
       " 'artist': 'Adam Paquette',\n",
       " 'artist_ids': ['89023dad-e6c0-41e0-83fb-eb2bfbbdc3f2'],\n",
       " 'illustration_id': '6b07ca0f-0cde-4798-b8f0-429f2fba450d',\n",
       " 'border_color': 'black',\n",
       " 'frame': '2015',\n",
       " 'full_art': False,\n",
       " 'textless': False,\n",
       " 'booster': True,\n",
       " 'story_spotlight': False,\n",
       " 'preview': {'source': 'GameStar',\n",
       "  'source_uri': 'https://www.gamestar.de/galerien/magic_the_gathering_jumpstart,134800.html',\n",
       "  'previewed_at': '2020-06-17'},\n",
       " 'prices': {'usd': '0.22',\n",
       "  'usd_foil': None,\n",
       "  'usd_etched': None,\n",
       "  'eur': '0.23',\n",
       "  'eur_foil': None,\n",
       "  'tix': None},\n",
       " 'related_uris': {'gatherer': 'https://gatherer.wizards.com/Pages/Card/Details.aspx?multiverseid=489643',\n",
       "  'tcgplayer_infinite_articles': 'https://infinite.tcgplayer.com/search?contentMode=article&game=magic&partner=scryfall&q=Swamp&utm_campaign=affiliate&utm_medium=api&utm_source=scryfall',\n",
       "  'tcgplayer_infinite_decks': 'https://infinite.tcgplayer.com/search?contentMode=deck&game=magic&partner=scryfall&q=Swamp&utm_campaign=affiliate&utm_medium=api&utm_source=scryfall',\n",
       "  'edhrec': 'https://edhrec.com/route/?cc=Swamp'}}"
      ]
     },
     "metadata": {},
     "output_type": "display_data"
    }
   ],
   "source": [
    "for d in data:\n",
    "    if d[\"name\"] in errors:\n",
    "        display(d)\n",
    "        break"
   ]
  },
  {
   "cell_type": "code",
   "execution_count": 6,
   "metadata": {
    "pycharm": {
     "name": "#%%\n"
    }
   },
   "outputs": [
    {
     "data": {
      "text/plain": [
       "{'Abyssal Horror',\n",
       " 'Abyssal Specter',\n",
       " 'Adarkar Wastes',\n",
       " 'Aeon Chronicler',\n",
       " 'Aether Flash',\n",
       " 'Agonizing Memories',\n",
       " 'Air Elemental',\n",
       " \"Aladdin's Ring\",\n",
       " 'Anaconda',\n",
       " 'Ancestral Memories',\n",
       " 'Ancient Silverback',\n",
       " 'Angelic Page',\n",
       " 'Arcane Laboratory',\n",
       " 'Archivist',\n",
       " 'Ardent Militia',\n",
       " 'Balduvian Barbarians',\n",
       " 'Baleful Stare',\n",
       " 'Beast of Burden',\n",
       " 'Bedlam',\n",
       " 'Befoul',\n",
       " 'Bellowing Fiend',\n",
       " 'Benthic Behemoth',\n",
       " 'Bereavement',\n",
       " 'Birds of Paradise',\n",
       " 'Blanchwood Armor',\n",
       " 'Blaze',\n",
       " 'Blessed Reversal',\n",
       " 'Blood Pet',\n",
       " 'Bloodshot Cyclops',\n",
       " 'Bog Imp',\n",
       " 'Bog Wraith',\n",
       " 'Boil',\n",
       " 'Boomerang',\n",
       " 'Breath of Life',\n",
       " 'Brushland',\n",
       " 'Bull Hippo',\n",
       " 'Caltrops',\n",
       " 'Canopy Spider',\n",
       " 'Castle',\n",
       " 'Catti-brie of Mithral Hall',\n",
       " 'Charcoal Diamond',\n",
       " 'Circle of Protection: Black',\n",
       " 'Circle of Protection: Blue',\n",
       " 'Circle of Protection: Green',\n",
       " 'Circle of Protection: Red',\n",
       " 'Circle of Protection: White',\n",
       " 'City of Brass',\n",
       " 'Cloudchaser Eagle',\n",
       " 'Coat of Arms',\n",
       " 'Compost',\n",
       " 'Confiscate',\n",
       " 'Coral Merfolk',\n",
       " 'Corrupt',\n",
       " 'Counterspell',\n",
       " 'Creeping Mold',\n",
       " 'Crimson Hellkite',\n",
       " 'Crossbow Infantry',\n",
       " 'Crypt Rats',\n",
       " 'Crystal Rod',\n",
       " 'Dakmor Lancer',\n",
       " 'Daring Apprentice',\n",
       " 'Dark Banishing',\n",
       " 'Darkest Hour',\n",
       " 'Deflection',\n",
       " 'Delusions of Mediocrity',\n",
       " 'Dingus Egg',\n",
       " 'Disenchant',\n",
       " 'Disorder',\n",
       " 'Disrupting Scepter',\n",
       " 'Dregs of Sorrow',\n",
       " 'Drudge Skeletons',\n",
       " 'Duress',\n",
       " 'Eager Cadet',\n",
       " 'Early Harvest',\n",
       " 'Earthquake',\n",
       " 'Eastern Paladin',\n",
       " 'Elder Druid',\n",
       " 'Elite Archers',\n",
       " 'Elvish Archers',\n",
       " 'Elvish Champion',\n",
       " 'Elvish Lyrist',\n",
       " 'Elvish Piper',\n",
       " 'Engineered Plague',\n",
       " 'Ensnaring Bridge',\n",
       " 'Equilibrium',\n",
       " 'Evacuation',\n",
       " 'Fallen Angel',\n",
       " 'Familiar Ground',\n",
       " 'Fear',\n",
       " 'Femeref Archers',\n",
       " \"Feroz's Ban\",\n",
       " 'Fervor',\n",
       " 'Fighting Drake',\n",
       " 'Final Fortune',\n",
       " 'Fire Diamond',\n",
       " 'Fire Elemental',\n",
       " 'Fleeting Image',\n",
       " 'Flight',\n",
       " 'Flying Carpet',\n",
       " 'Fog',\n",
       " 'Force Spike',\n",
       " 'Forest',\n",
       " 'Foul Imp',\n",
       " 'Fugue',\n",
       " 'Fyndhorn Elder',\n",
       " 'Gang of Elk',\n",
       " \"Gerrard's Wisdom\",\n",
       " 'Ghitu Fire-Eater',\n",
       " 'Giant Cockroach',\n",
       " 'Giant Growth',\n",
       " 'Giant Octopus',\n",
       " 'Giant Spider',\n",
       " 'Glacial Wall',\n",
       " 'Gloomshrieker',\n",
       " 'Glorious Anthem',\n",
       " 'Goblin Chariot',\n",
       " 'Goblin Digging Team',\n",
       " 'Goblin Elite Infantry',\n",
       " 'Goblin Gardener',\n",
       " 'Goblin Glider',\n",
       " 'Goblin King',\n",
       " 'Goblin Matron',\n",
       " 'Goblin Raider',\n",
       " 'Goblin Spelunkers',\n",
       " 'Goblin War Drums',\n",
       " 'Gorilla Chieftain',\n",
       " 'Grafted Skullcap',\n",
       " 'Granite Grip',\n",
       " 'Grapeshot Catapult',\n",
       " 'Gravedigger',\n",
       " 'Greed',\n",
       " 'Grizzly Bears',\n",
       " 'Hand of Death',\n",
       " 'Healing Salve',\n",
       " 'Heavy Ballista',\n",
       " 'Hibernation',\n",
       " 'Hill Giant',\n",
       " 'Hollow Dogs',\n",
       " 'Holy Strength',\n",
       " 'Honor Guard',\n",
       " 'Horned Turtle',\n",
       " 'Howl from Beyond',\n",
       " 'Howling Mine',\n",
       " 'Hurricane',\n",
       " 'Impatience',\n",
       " 'Infernal Contract',\n",
       " 'Inferno',\n",
       " 'Inspiration',\n",
       " 'Intrepid Hero',\n",
       " 'Iron Star',\n",
       " 'Island',\n",
       " 'Ivory Cup',\n",
       " 'Jalum Tome',\n",
       " \"Jandor's Saddlebags\",\n",
       " 'Jayemdae Tome',\n",
       " 'Karfell Kennel-Master',\n",
       " 'Karplusan Forest',\n",
       " 'Kjeldoran Royal Guard',\n",
       " 'Knight Errant',\n",
       " 'Knighthood',\n",
       " 'Lava Axe',\n",
       " \"Leshrac's Rite\",\n",
       " 'Levitation',\n",
       " 'Lightning Blast',\n",
       " 'Lightning Elemental',\n",
       " 'Llanowar Elves',\n",
       " 'Lone Wolf',\n",
       " 'Longbow Archer',\n",
       " 'Looming Shade',\n",
       " 'Lord of Atlantis',\n",
       " 'Lure',\n",
       " 'Mahamoti Djinn',\n",
       " 'Mana Breach',\n",
       " 'Mana Clash',\n",
       " 'Mana Short',\n",
       " 'Marble Diamond',\n",
       " 'Maro',\n",
       " 'Master Healer',\n",
       " 'Mawcor',\n",
       " 'Meekstone',\n",
       " 'Megrim',\n",
       " 'Memory Lapse',\n",
       " 'Merfolk Looter',\n",
       " 'Merfolk of the Pearl Trident',\n",
       " 'Might of Oaks',\n",
       " 'Millstone',\n",
       " 'Mind Rot',\n",
       " 'Monstrous Growth',\n",
       " 'Moon Sprite',\n",
       " 'Moss Diamond',\n",
       " 'Mountain',\n",
       " \"Nature's Resurgence\",\n",
       " \"Nature's Revolt\",\n",
       " 'Nausea',\n",
       " 'Necrologia',\n",
       " 'Nightmare',\n",
       " 'Nocturnal Raid',\n",
       " 'Northern Paladin',\n",
       " 'Ogre Taskmaster',\n",
       " 'Ogre Warrior',\n",
       " 'Okk',\n",
       " 'Opportunity',\n",
       " 'Opposition',\n",
       " 'Oppression',\n",
       " 'Orcish Artillery',\n",
       " 'Orcish Oriflamme',\n",
       " 'Ostracize',\n",
       " 'Pacifism',\n",
       " 'Pariah',\n",
       " 'Patagia Golem',\n",
       " 'Persecute',\n",
       " 'Phantom Warrior',\n",
       " 'Phyrexian Colossus',\n",
       " 'Phyrexian Hulk',\n",
       " 'Pillage',\n",
       " 'Pit Trap',\n",
       " 'Plague Beetle',\n",
       " 'Plains',\n",
       " 'Pride of Lions',\n",
       " 'Prodigal Sorcerer',\n",
       " 'Purify',\n",
       " 'Pygmy Pyrosaur',\n",
       " 'Pyroclasm',\n",
       " 'Pyrotechnics',\n",
       " 'Rag Man',\n",
       " 'Raging Goblin',\n",
       " 'Raise Dead',\n",
       " 'Rampant Growth',\n",
       " 'Razorfoot Griffin',\n",
       " 'Razortooth Rats',\n",
       " 'Reckless Embermage',\n",
       " 'Reclaim',\n",
       " 'Redwood Treefolk',\n",
       " 'Reflecting Pool',\n",
       " 'Reflexes',\n",
       " 'Regeneration',\n",
       " 'Relentless Assault',\n",
       " 'Relentless Rats',\n",
       " 'Remove Soul',\n",
       " 'Reprisal',\n",
       " 'Reprocess',\n",
       " 'Revenant',\n",
       " 'Reverse Damage',\n",
       " 'Rod of Ruin',\n",
       " 'Rolling Stones',\n",
       " 'Rowen',\n",
       " 'Royal Falcon',\n",
       " 'Sabretooth Tiger',\n",
       " 'Sacred Ground',\n",
       " 'Sacred Nectar',\n",
       " 'Sage Owl',\n",
       " 'Samite Healer',\n",
       " 'Sanctimony',\n",
       " 'Scathe Zombies',\n",
       " 'Scavenger Folk',\n",
       " 'Sea Eagle',\n",
       " 'Sea Monster',\n",
       " 'Seasoned Marshal',\n",
       " 'Seeker of Skybreak',\n",
       " 'Seismic Assault',\n",
       " 'Serpent Warrior',\n",
       " 'Serra Advocate',\n",
       " 'Serra Angel',\n",
       " \"Serra's Embrace\",\n",
       " 'Shanodin Dryads',\n",
       " 'Shatter',\n",
       " 'Shield Wall',\n",
       " 'Shivan Dragon',\n",
       " 'Shock',\n",
       " \"Sisay's Ring\",\n",
       " 'Sky Diamond',\n",
       " 'Skyshroud Falcon',\n",
       " 'Sleight of Hand',\n",
       " 'Soul Feast',\n",
       " 'Soul Net',\n",
       " 'Southern Paladin',\n",
       " 'Spellbook',\n",
       " 'Spined Wurm',\n",
       " 'Spineless Thug',\n",
       " 'Spirit Link',\n",
       " 'Spitting Earth',\n",
       " 'Squall',\n",
       " 'Standing Troops',\n",
       " 'Starlight',\n",
       " 'Static Orb',\n",
       " 'Staunch Defenders',\n",
       " 'Steal Artifact',\n",
       " 'Stone Rain',\n",
       " 'Storm Cauldron',\n",
       " 'Storm Crow',\n",
       " 'Storm Shaman',\n",
       " 'Strands of Night',\n",
       " 'Stream of Life',\n",
       " 'Stronghold Assassin',\n",
       " 'Sudden Impact',\n",
       " 'Sulfurous Springs',\n",
       " 'Sunweb',\n",
       " 'Sustainer of the Realm',\n",
       " 'Swamp',\n",
       " 'Tainted Aether',\n",
       " \"Teferi's Puzzle Box\",\n",
       " 'Telepathic Spies',\n",
       " 'Telepathy',\n",
       " 'Temporal Adept',\n",
       " 'Thieving Magpie',\n",
       " 'Thorn Elemental',\n",
       " 'Thoughtleech',\n",
       " 'Throne of Bone',\n",
       " 'Tolarian Winds',\n",
       " 'Trained Armodon',\n",
       " 'Trained Orgg',\n",
       " 'Tranquility',\n",
       " 'Treasure Trove',\n",
       " 'Treefolk Seedlings',\n",
       " 'Trelasarra, Moon Dancer',\n",
       " 'Tremor',\n",
       " 'Twiddle',\n",
       " 'Uktabi Wildcats',\n",
       " 'Underground River',\n",
       " 'Unholy Strength',\n",
       " 'Unsummon',\n",
       " 'Untamed Wilds',\n",
       " 'Venerable Monk',\n",
       " 'Vengeance',\n",
       " 'Verduran Enchantress',\n",
       " 'Vernal Bloom',\n",
       " 'Vigilant Drake',\n",
       " 'Vizzerdrix',\n",
       " 'Volcanic Hammer',\n",
       " 'Wall of Air',\n",
       " 'Wall of Bone',\n",
       " 'Wall of Fire',\n",
       " 'Wall of Spears',\n",
       " 'Wall of Swords',\n",
       " 'Wall of Wonder',\n",
       " 'Western Paladin',\n",
       " 'Wild Growth',\n",
       " 'Wildfire',\n",
       " 'Willow Elf',\n",
       " 'Wind Dancer',\n",
       " 'Wind Drake',\n",
       " 'Wing Snare',\n",
       " 'Wood Elves',\n",
       " 'Wooden Sphere',\n",
       " 'Worship',\n",
       " 'Wrath of God',\n",
       " 'Yavimaya Enchantress',\n",
       " \"Yawgmoth's Edict\"}"
      ]
     },
     "execution_count": 6,
     "metadata": {},
     "output_type": "execute_result"
    }
   ],
   "source": [
    "errors"
   ]
  },
  {
   "cell_type": "code",
   "execution_count": 7,
   "metadata": {
    "pycharm": {
     "name": "#%%\n"
    }
   },
   "outputs": [
    {
     "name": "stdout",
     "output_type": "stream",
     "text": [
      "348\n"
     ]
    }
   ],
   "source": [
    "print(len(errors))"
   ]
  },
  {
   "cell_type": "markdown",
   "metadata": {
    "pycharm": {
     "name": "#%% md\n"
    }
   },
   "source": [
    "### Corrections"
   ]
  },
  {
   "cell_type": "code",
   "execution_count": 8,
   "metadata": {
    "pycharm": {
     "name": "#%%\n"
    }
   },
   "outputs": [
    {
     "name": "stdout",
     "output_type": "stream",
     "text": [
      "valentin, dean of the vein is Legendary Creature — Vampire Warlock should be Creature\n",
      "arrogant poet is Card should be Creature\n",
      "No lands\n"
     ]
    }
   ],
   "source": [
    "corrections = {\n",
    "    \"prismari command\": \"Instant\",\n",
    "    \"valentin, dean of the vein\": \"Creature\",\n",
    "    \"arrogant poet\": \"Creature\",\n",
    "    \"ephemerate\": \"Instant\",\n",
    "}\n",
    "\n",
    "for k, v in corrections.items():\n",
    "    if card_types[k] != v:\n",
    "        # card_types[k] = v\n",
    "        print(k, \"is\", card_types[k], \"should be\", v)\n",
    "\n",
    "try:\n",
    "    del card_types[\"lands\"]\n",
    "except KeyError:\n",
    "    print(\"No lands\")"
   ]
  },
  {
   "cell_type": "code",
   "execution_count": 9,
   "metadata": {
    "pycharm": {
     "name": "#%%\n"
    }
   },
   "outputs": [
    {
     "name": "stdout",
     "output_type": "stream",
     "text": [
      "Legendary Planeswalker — Liliana\n",
      "Instant\n"
     ]
    }
   ],
   "source": [
    "print(card_types[\"liliana of the veil\"])\n",
    "# print(card_types['liliana del velo'])\n",
    "print(card_types[\"lorehold command\"])"
   ]
  },
  {
   "cell_type": "code",
   "execution_count": 10,
   "metadata": {
    "pycharm": {
     "name": "#%%\n"
    }
   },
   "outputs": [
    {
     "name": "stdout",
     "output_type": "stream",
     "text": [
      "Land\n"
     ]
    }
   ],
   "source": [
    "print(card_types[\"clearwater pathway\"])"
   ]
  },
  {
   "cell_type": "code",
   "execution_count": 11,
   "metadata": {
    "pycharm": {
     "name": "#%%\n"
    }
   },
   "outputs": [
    {
     "name": "stdout",
     "output_type": "stream",
     "text": [
      "Sorcery\n"
     ]
    }
   ],
   "source": [
    "print(card_types[\"find // finality\"])"
   ]
  },
  {
   "cell_type": "code",
   "execution_count": 12,
   "metadata": {
    "pycharm": {
     "name": "#%%\n"
    }
   },
   "outputs": [
    {
     "name": "stdout",
     "output_type": "stream",
     "text": [
      "find // finality\n"
     ]
    }
   ],
   "source": [
    "print(translations[\"trovare // troncare\"])"
   ]
  },
  {
   "cell_type": "markdown",
   "metadata": {
    "pycharm": {
     "name": "#%% md\n"
    }
   },
   "source": [
    "### Create files"
   ]
  },
  {
   "cell_type": "code",
   "execution_count": 13,
   "metadata": {
    "pycharm": {
     "name": "#%%\n"
    }
   },
   "outputs": [],
   "source": [
    "with open(\n",
    "    os.path.join(NEW_DATA_FOLDER, \"new_translations.py\"), \"w\", encoding=\"utf-8\"\n",
    ") as f:\n",
    "    f.write(\"translations = \" + str(translations))"
   ]
  },
  {
   "cell_type": "code",
   "execution_count": null,
   "metadata": {
    "pycharm": {
     "name": "#%%\n"
    }
   },
   "outputs": [],
   "source": []
  },
  {
   "cell_type": "code",
   "execution_count": null,
   "metadata": {
    "pycharm": {
     "name": "#%%\n"
    }
   },
   "outputs": [],
   "source": []
  }
 ],
 "metadata": {
  "kernelspec": {
   "display_name": "Python 3 (ipykernel)",
   "language": "python",
   "name": "python3"
  },
  "language_info": {
   "codemirror_mode": {
    "name": "ipython",
    "version": 3
   },
   "file_extension": ".py",
   "mimetype": "text/x-python",
   "name": "python",
   "nbconvert_exporter": "python",
   "pygments_lexer": "ipython3",
   "version": "3.10.6"
  },
  "varInspector": {
   "cols": {
    "lenName": 16,
    "lenType": 16,
    "lenVar": 40
   },
   "kernels_config": {
    "python": {
     "delete_cmd_postfix": "",
     "delete_cmd_prefix": "del ",
     "library": "var_list.py",
     "varRefreshCmd": "print(var_dic_list())"
    },
    "r": {
     "delete_cmd_postfix": ") ",
     "delete_cmd_prefix": "rm(",
     "library": "var_list.r",
     "varRefreshCmd": "cat(var_dic_list()) "
    }
   },
   "types_to_exclude": [
    "module",
    "function",
    "builtin_function_or_method",
    "instance",
    "_Feature"
   ],
   "window_display": false
  }
 },
 "nbformat": 4,
 "nbformat_minor": 4
}
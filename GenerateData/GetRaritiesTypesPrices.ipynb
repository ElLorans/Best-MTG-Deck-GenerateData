{
 "cells": [
  {
   "cell_type": "markdown",
   "metadata": {
    "pycharm": {
     "name": "#%% md\n"
    }
   },
   "source": [
    "https://scryfall.com/docs/api/bulk-data\n",
    "\n",
    "Oracle Cards"
   ]
  },
  {
   "cell_type": "markdown",
   "metadata": {
    "pycharm": {
     "name": "#%% md\n"
    }
   },
   "source": [
    "Problem: Prices are the price of the latest card version\n",
    "(if latest version is only digital, None prices)\n",
    "Solve problem with bridge script to update data?"
   ]
  },
  {
   "cell_type": "code",
   "execution_count": 1,
   "metadata": {
    "pycharm": {
     "name": "#%%\n"
    }
   },
   "outputs": [
    {
     "name": "stdout",
     "output_type": "stream",
     "text": [
      "Copied files\n"
     ]
    }
   ],
   "source": [
    "import ujson as json\n",
    "import os\n",
    "\n",
    "from tqdm.auto import tqdm\n",
    "from utils import NEW_DATA_FOLDER, SCRYFALL_FOLDER, is_mtga_legal, save_card_to_dict"
   ]
  },
  {
   "cell_type": "code",
   "execution_count": 2,
   "metadata": {
    "pycharm": {
     "name": "#%%\n"
    }
   },
   "outputs": [],
   "source": [
    "with open(os.path.join(SCRYFALL_FOLDER, \"oracle-cards.json\"), encoding=\"utf-8\") as j:\n",
    "    data = json.load(j)"
   ]
  },
  {
   "cell_type": "code",
   "execution_count": 3,
   "metadata": {
    "pycharm": {
     "name": "#%%\n"
    }
   },
   "outputs": [
    {
     "name": "stdout",
     "output_type": "stream",
     "text": [
      "Static Orb\n",
      "Rare\n",
      "{'usd': '21.59', 'usd_foil': '419.85', 'usd_etched': None, 'eur': '13.33', 'eur_foil': '250.00', 'tix': '0.52'}\n"
     ]
    }
   ],
   "source": [
    "for card in data:\n",
    "    print(card[\"name\"])\n",
    "    print(card[\"rarity\"].title())\n",
    "    print(card[\"prices\"])\n",
    "    break"
   ]
  },
  {
   "cell_type": "code",
   "execution_count": 4,
   "metadata": {
    "pycharm": {
     "name": "#%%\n"
    }
   },
   "outputs": [],
   "source": [
    "rarities = dict()\n",
    "card_types = dict()\n",
    "eur_prices = dict()\n",
    "usd_prices = dict()\n",
    "mtgo_prices = dict()"
   ]
  },
  {
   "cell_type": "code",
   "execution_count": 5,
   "metadata": {
    "pycharm": {
     "name": "#%%\n"
    }
   },
   "outputs": [
    {
     "data": {
      "application/json": {
       "ascii": false,
       "bar_format": null,
       "colour": null,
       "elapsed": 0.2383286952972412,
       "initial": 0,
       "n": 0,
       "ncols": null,
       "nrows": 29,
       "postfix": null,
       "prefix": "",
       "rate": null,
       "total": 26671,
       "unit": "it",
       "unit_divisor": 1000,
       "unit_scale": false
      },
      "application/vnd.jupyter.widget-view+json": {
       "model_id": "c9cf340b3b1d430badf7032f9c41976e",
       "version_major": 2,
       "version_minor": 0
      },
      "text/plain": [
       "  0%|          | 0/26671 [00:00<?, ?it/s]"
      ]
     },
     "metadata": {},
     "output_type": "display_data"
    }
   ],
   "source": [
    "for card in tqdm(data):\n",
    "    lower_name = card[\"name\"].lower()\n",
    "\n",
    "    card_type = card[\"type_line\"].split(\" —\")[0].split(\" /\")[0]\n",
    "    if card_type != \"Card\":\n",
    "        save_card_to_dict(lower_name, card_type, card_types)\n",
    "\n",
    "    if is_mtga_legal(card):\n",
    "        # rarities[card[\"name\"]] = card[\"rarity\"].title()\n",
    "        save_card_to_dict(card[\"name\"], card[\"rarity\"].title(), rarities)\n",
    "\n",
    "    for currency, dictionary in {\n",
    "        \"usd\": usd_prices,\n",
    "        \"eur\": eur_prices,\n",
    "        \"tix\": mtgo_prices,\n",
    "    }.items():\n",
    "        try:\n",
    "            save_card_to_dict(lower_name, float(card[\"prices\"][currency]), dictionary)\n",
    "        except TypeError:  # price is None\n",
    "            pass\n",
    "\n",
    "# correct basic Lands\n",
    "rarities.update(\n",
    "    {\n",
    "        \"Forest\": \"Basic Land\",\n",
    "        \"Swamp\": \"Basic Land\",\n",
    "        \"Mountain\": \"Basic Land\",\n",
    "        \"Island\": \"Basic Land\",\n",
    "        \"Plains\": \"Basic Land\",\n",
    "    }\n",
    ")"
   ]
  },
  {
   "cell_type": "code",
   "execution_count": 6,
   "metadata": {
    "pycharm": {
     "name": "#%%\n"
    }
   },
   "outputs": [
    {
     "data": {
      "text/plain": [
       "'Basic Land'"
      ]
     },
     "execution_count": 6,
     "metadata": {},
     "output_type": "execute_result"
    }
   ],
   "source": [
    "rarities[\"Forest\"]"
   ]
  },
  {
   "cell_type": "markdown",
   "metadata": {
    "pycharm": {
     "name": "#%% md\n"
    }
   },
   "source": [
    "### Save Rarities"
   ]
  },
  {
   "cell_type": "code",
   "execution_count": 7,
   "metadata": {
    "pycharm": {
     "name": "#%%\n"
    }
   },
   "outputs": [],
   "source": [
    "with open(os.path.join(NEW_DATA_FOLDER, \"new_rarities.py\"), \"w\", encoding=\"utf-8\") as f:\n",
    "    f.write(\"rarity = \" + str(rarities))"
   ]
  },
  {
   "cell_type": "markdown",
   "metadata": {
    "pycharm": {
     "name": "#%% md\n"
    }
   },
   "source": [
    "### Types"
   ]
  },
  {
   "cell_type": "code",
   "execution_count": 8,
   "metadata": {
    "pycharm": {
     "name": "#%%\n"
    }
   },
   "outputs": [
    {
     "data": {
      "text/plain": [
       "'Legendary Creature'"
      ]
     },
     "execution_count": 8,
     "metadata": {},
     "output_type": "execute_result"
    }
   ],
   "source": [
    "card_types[\"valentin, dean of the vein\"]"
   ]
  },
  {
   "cell_type": "code",
   "execution_count": 9,
   "metadata": {
    "pycharm": {
     "name": "#%%\n"
    }
   },
   "outputs": [],
   "source": [
    "corrections = {\n",
    "    \"prismari command\": \"Instant\",\n",
    "    \"valentin, dean of the vein\": \"Legendary Creature\",\n",
    "    \"arrogant poet\": \"Creature\",\n",
    "    \"ephemerate\": \"Instant\",\n",
    "}\n",
    "\n",
    "for k, v in corrections.items():\n",
    "    if card_types[k] != v:\n",
    "        print(k, \"was\", card_types[k])\n",
    "        card_types[k] = v\n",
    "        print(k, \"Corrected\")"
   ]
  },
  {
   "cell_type": "code",
   "execution_count": 10,
   "metadata": {
    "pycharm": {
     "name": "#%%\n"
    }
   },
   "outputs": [
    {
     "name": "stdout",
     "output_type": "stream",
     "text": [
      "Legendary Planeswalker\n",
      "Instant\n"
     ]
    }
   ],
   "source": [
    "print(card_types[\"liliana of the veil\"])\n",
    "print(card_types[\"lorehold command\"])"
   ]
  },
  {
   "cell_type": "markdown",
   "metadata": {
    "pycharm": {
     "name": "#%% md\n"
    }
   },
   "source": [
    "### Save Card Types"
   ]
  },
  {
   "cell_type": "code",
   "execution_count": 11,
   "metadata": {
    "pycharm": {
     "name": "#%%\n"
    }
   },
   "outputs": [],
   "source": [
    "with open(\n",
    "    os.path.join(NEW_DATA_FOLDER, \"new_card_types.py\"), \"w\", encoding=\"utf-8\"\n",
    ") as f:\n",
    "    f.write(\"cards_to_types = \" + str(card_types))"
   ]
  },
  {
   "cell_type": "code",
   "execution_count": 12,
   "metadata": {
    "pycharm": {
     "name": "#%%\n"
    }
   },
   "outputs": [
    {
     "name": "stdout",
     "output_type": "stream",
     "text": [
      "35.94\n",
      "11.34\n",
      "35.15\n"
     ]
    },
    {
     "ename": "KeyError",
     "evalue": "'volcanic island'",
     "output_type": "error",
     "traceback": [
      "\u001B[1;31m---------------------------------------------------------------------------\u001B[0m",
      "\u001B[1;31mKeyError\u001B[0m                                  Traceback (most recent call last)",
      "Cell \u001B[1;32mIn [12], line 4\u001B[0m\n\u001B[0;32m      2\u001B[0m \u001B[38;5;28mprint\u001B[39m(mtgo_prices[\u001B[38;5;124m\"\u001B[39m\u001B[38;5;124mblack lotus\u001B[39m\u001B[38;5;124m\"\u001B[39m])\n\u001B[0;32m      3\u001B[0m \u001B[38;5;28mprint\u001B[39m(eur_prices[\u001B[38;5;124m\"\u001B[39m\u001B[38;5;124murza\u001B[39m\u001B[38;5;124m'\u001B[39m\u001B[38;5;124ms saga\u001B[39m\u001B[38;5;124m\"\u001B[39m])\n\u001B[1;32m----> 4\u001B[0m \u001B[38;5;28mprint\u001B[39m(\u001B[43meur_prices\u001B[49m\u001B[43m[\u001B[49m\u001B[38;5;124;43m\"\u001B[39;49m\u001B[38;5;124;43mvolcanic island\u001B[39;49m\u001B[38;5;124;43m\"\u001B[39;49m\u001B[43m]\u001B[49m)\n",
      "\u001B[1;31mKeyError\u001B[0m: 'volcanic island'"
     ]
    }
   ],
   "source": [
    "print(eur_prices[\"liliana of the veil\"])\n",
    "print(mtgo_prices[\"black lotus\"])\n",
    "print(eur_prices[\"urza's saga\"])\n",
    "print(eur_prices[\"volcanic island\"])"
   ]
  },
  {
   "cell_type": "code",
   "execution_count": 13,
   "metadata": {
    "pycharm": {
     "name": "#%%\n"
    }
   },
   "outputs": [
    {
     "name": "stdout",
     "output_type": "stream",
     "text": [
      "0.05\n"
     ]
    }
   ],
   "source": [
    "print(eur_prices[\"test of talents\"])"
   ]
  },
  {
   "cell_type": "markdown",
   "metadata": {
    "pycharm": {
     "name": "#%% md\n"
    }
   },
   "source": [
    "### Save Prices"
   ]
  },
  {
   "cell_type": "code",
   "execution_count": 14,
   "metadata": {
    "pycharm": {
     "name": "#%%\n"
    }
   },
   "outputs": [],
   "source": [
    "for currency, dictionary in {\n",
    "    \"usd_prices\": usd_prices,\n",
    "    \"eur_prices\": eur_prices,\n",
    "    \"mtgo_prices\": mtgo_prices,\n",
    "}.items():\n",
    "    file_name = \"new_\" + currency\n",
    "    with open(\n",
    "        f\"{os.path.join(NEW_DATA_FOLDER, file_name)}.py\", \"w\", encoding=\"utf-8\"\n",
    "    ) as f:\n",
    "        f.write(f\"{currency} = {dictionary}\")"
   ]
  },
  {
   "cell_type": "code",
   "execution_count": null,
   "metadata": {
    "pycharm": {
     "name": "#%%\n"
    }
   },
   "outputs": [],
   "source": []
  }
 ],
 "metadata": {
  "kernelspec": {
   "display_name": "Python 3 (ipykernel)",
   "language": "python",
   "name": "python3"
  },
  "language_info": {
   "codemirror_mode": {
    "name": "ipython",
    "version": 3
   },
   "file_extension": ".py",
   "mimetype": "text/x-python",
   "name": "python",
   "nbconvert_exporter": "python",
   "pygments_lexer": "ipython3",
   "version": "3.10.6"
  },
  "varInspector": {
   "cols": {
    "lenName": 16,
    "lenType": 16,
    "lenVar": 40
   },
   "kernels_config": {
    "python": {
     "delete_cmd_postfix": "",
     "delete_cmd_prefix": "del ",
     "library": "var_list.py",
     "varRefreshCmd": "print(var_dic_list())"
    },
    "r": {
     "delete_cmd_postfix": ") ",
     "delete_cmd_prefix": "rm(",
     "library": "var_list.r",
     "varRefreshCmd": "cat(var_dic_list()) "
    }
   },
   "types_to_exclude": [
    "module",
    "function",
    "builtin_function_or_method",
    "instance",
    "_Feature"
   ],
   "window_display": false
  }
 },
 "nbformat": 4,
 "nbformat_minor": 4
}
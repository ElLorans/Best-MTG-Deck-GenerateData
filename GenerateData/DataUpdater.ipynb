{
 "cells": [
  {
   "cell_type": "markdown",
   "source": [
    "Update dicts in Old_Data folder with dicts from New_Data folder and save result in Result folder."
   ],
   "metadata": {
    "collapsed": false,
    "pycharm": {
     "name": "#%% md\n"
    }
   }
  },
  {
   "cell_type": "code",
   "execution_count": 1,
   "outputs": [
    {
     "name": "stdout",
     "output_type": "stream",
     "text": [
      "Copied files\n"
     ]
    }
   ],
   "source": [
    "import os\n",
    "\n",
    "import utils\n",
    "from New_Data.new_card_types import cards_to_types as new_cards_to_types\n",
    "\n",
    "# new files\n",
    "from New_Data.new_eur_prices import eur_prices as new_eur_prices\n",
    "from New_Data.new_rarities import rarity as new_rarity\n",
    "from New_Data.new_translations import translations as new_translations\n",
    "from New_Data.new_usd_prices import usd_prices as new_usd_prices\n",
    "from Old_Data.card_types import card_types as old_cards_to_types\n",
    "\n",
    "# old files\n",
    "from Old_Data.prices_eur import prices_eur as old_eur_prices\n",
    "from Old_Data.prices_usd import prices_usd as old_usd_prices\n",
    "from Old_Data.rarity import rarity as old_rarity\n",
    "from Old_Data.translations import translations as old_translations\n",
    "from tqdm.auto import tqdm"
   ],
   "metadata": {
    "collapsed": false,
    "pycharm": {
     "name": "#%%\n"
    }
   }
  },
  {
   "cell_type": "code",
   "execution_count": 2,
   "id": "f89b9879",
   "metadata": {
    "pycharm": {
     "name": "#%%\n"
    }
   },
   "outputs": [],
   "source": [
    "def python_var_to_py(var, var_name, file_name):\n",
    "    \"\"\"\n",
    "    Save variable to a {var_name}.py file.\n",
    "    \"\"\"\n",
    "    file_name = file_name if file_name.endswith(\".py\") else file_name + \".py\"\n",
    "    with open(file_name, \"w\", encoding=\"utf-8\") as file:\n",
    "        file.write(f\"{var_name} = {var}\")"
   ]
  },
  {
   "cell_type": "code",
   "execution_count": 3,
   "id": "8b658336-8c46-4514-afd5-f867a3c0cdca",
   "metadata": {
    "pycharm": {
     "name": "#%%\n"
    }
   },
   "outputs": [],
   "source": [
    "old_to_new: tuple[tuple[dict, dict, str], ...] = (\n",
    "    (old_eur_prices, new_eur_prices, \"prices_eur\"),\n",
    "    (old_usd_prices, new_usd_prices, \"prices_usd\"),\n",
    "    (old_rarity, new_rarity, \"rarity\"),\n",
    "    (old_translations, new_translations, \"translations\"),\n",
    "    (old_cards_to_types, new_cards_to_types, \"card_types\"),\n",
    ")"
   ]
  },
  {
   "cell_type": "code",
   "execution_count": 4,
   "id": "d1d3a7d0",
   "metadata": {
    "pycharm": {
     "name": "#%%\n"
    }
   },
   "outputs": [],
   "source": [
    "for old_dictionary, new_dictionary, name in old_to_new:\n",
    "    old_dictionary.update(new_dictionary)"
   ]
  },
  {
   "cell_type": "code",
   "execution_count": 5,
   "id": "a7526b97",
   "metadata": {
    "pycharm": {
     "name": "#%%\n"
    }
   },
   "outputs": [
    {
     "name": "stdout",
     "output_type": "stream",
     "text": [
      "prices_eur\n",
      "prices_usd\n",
      "card_types\n"
     ]
    }
   ],
   "source": [
    "for updated, new, name in old_to_new:\n",
    "    python_var_to_py(updated, name, os.path.join(utils.RESULT_FOLDER, name))\n",
    "    if \"volcanic island\" in updated:\n",
    "        print(name)"
   ]
  },
  {
   "cell_type": "code",
   "execution_count": null,
   "id": "f7d4f13c-b9bc-4c1e-8a91-cf66c5a71299",
   "metadata": {
    "pycharm": {
     "name": "#%%\n"
    }
   },
   "outputs": [],
   "source": []
  }
 ],
 "metadata": {
  "kernelspec": {
   "display_name": "Python 3 (ipykernel)",
   "language": "python",
   "name": "python3"
  },
  "language_info": {
   "codemirror_mode": {
    "name": "ipython",
    "version": 3
   },
   "file_extension": ".py",
   "mimetype": "text/x-python",
   "name": "python",
   "nbconvert_exporter": "python",
   "pygments_lexer": "ipython3",
   "version": "3.10.6"
  },
  "varInspector": {
   "cols": {
    "lenName": 16,
    "lenType": 16,
    "lenVar": 40
   },
   "kernels_config": {
    "python": {
     "delete_cmd_postfix": "",
     "delete_cmd_prefix": "del ",
     "library": "var_list.py",
     "varRefreshCmd": "print(var_dic_list())"
    },
    "r": {
     "delete_cmd_postfix": ") ",
     "delete_cmd_prefix": "rm(",
     "library": "var_list.r",
     "varRefreshCmd": "cat(var_dic_list()) "
    }
   },
   "types_to_exclude": [
    "module",
    "function",
    "builtin_function_or_method",
    "instance",
    "_Feature"
   ],
   "window_display": false
  }
 },
 "nbformat": 4,
 "nbformat_minor": 5
}